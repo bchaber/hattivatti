{
 "cells": [
  {
   "cell_type": "markdown",
   "id": "obvious-declaration",
   "metadata": {},
   "source": [
    "# Lid-driven cavity benchmarkwith a D2Q9 Lattice Boltzmann Method\n",
    "\n",
    "The code implements a simple D2Q9 LBM, with BGK collision operator and uses a Single Relaxation Time.\n",
    "\n",
    "The initial Julia implementation comes from [https://github.com/Nappael/JuliaLatticeBoltzmann] (MIT license).\n",
    "\n",
    "The main reference is of course Philip Mocz's repository [https://github.com/pmocz/latticeboltzmann-python] (GPL3 license)."
   ]
  },
  {
   "cell_type": "code",
   "execution_count": 1,
   "id": "modified-repeat",
   "metadata": {},
   "outputs": [
    {
     "name": "stderr",
     "output_type": "stream",
     "text": [
      "\u001b[32m\u001b[1m  Activating\u001b[22m\u001b[39m new environment at `~/hattivatti/Project.toml`\n"
     ]
    }
   ],
   "source": [
    "import Pkg\n",
    "Pkg.activate(\".\")\n",
    "#Pkg.add(\"PyPlot\")\n",
    "#Pkg.add(\"Einsum\")\n",
    "#Pkg.add(\"StaticArrays\")\n",
    "#Pkg.instantiate()"
   ]
  },
  {
   "cell_type": "code",
   "execution_count": 49,
   "id": "adaptive-celtic",
   "metadata": {},
   "outputs": [
    {
     "name": "stdout",
     "output_type": "stream",
     "text": [
      "Reynolds number Re = 500.0\n"
     ]
    },
    {
     "name": "stderr",
     "output_type": "stream",
     "text": [
      "WARNING: redefinition of constant ex. This may fail, cause incorrect answers, or produce other errors.\n",
      "WARNING: redefinition of constant ey. This may fail, cause incorrect answers, or produce other errors.\n",
      "WARNING: redefinition of constant S. This may fail, cause incorrect answers, or produce other errors.\n",
      "WARNING: redefinition of constant M. This may fail, cause incorrect answers, or produce other errors.\n"
     ]
    },
    {
     "data": {
      "text/plain": [
       "LatticeState"
      ]
     },
     "execution_count": 49,
     "metadata": {},
     "output_type": "execute_result"
    }
   ],
   "source": [
    "using PyPlot, Einsum, StaticArrays, LinearAlgebra\n",
    "import Random\n",
    "Random.seed!(42)\n",
    "# Simulation parameters\n",
    "const NL     = 9\n",
    "const Nx, Ny = 50, 50\n",
    "const Nt     = 5000\n",
    "const u0     = 0.1\n",
    "const ρ0     = 1.0\n",
    "const Δt     = 1.0\n",
    "const ΔL     = 1.0\n",
    "const ν      = 0.01\n",
    "const τ      = 3ν + 0.5\n",
    "\n",
    "Re = Nx * abs(u0) / ν\n",
    "println(\"Reynolds number Re = \", Re)\n",
    "const ex = [0, 1, 1, 0,-1,-1,-1, 0, 1]\n",
    "const ey = [0, 0, 1, 1, 1, 0,-1,-1,-1]\n",
    "const S  = [1.0, 1.4, 1.4, 1.0, 1.2, 1.0, 1.2, 1/τ, 1/τ]\n",
    "const M = [1     1     1     1     1     1     1     1     1\n",
    "          -4    -1     2    -1     2    -1     2    -1     2\n",
    "           4    -2     1    -2     1    -2     1    -2     1\n",
    "           0     1     1     0    -1    -1    -1     0     1\n",
    "           0    -2     1     0    -1     2    -1     0     1\n",
    "           0     0     1     1     1     0    -1    -1    -1\n",
    "           0     0     1    -2     1     0    -1     2    -1\n",
    "           0     1     0    -1     0     1     0    -1     0\n",
    "           0     0     1     0    -1     0     1     0    -1]\n",
    "invM = M \\ diagm(S)\n",
    "\n",
    "struct LatticeState{T}\n",
    "    ρ::Array{T, 2}    # macroscale density\n",
    "    f::Array{T, 3}    # particle distribution function\n",
    "    m::Array{T, 3}  # equillibrium moments for collision\n",
    "    ux::Array{T, 2}   # macroscale velocity, x component\n",
    "    uy::Array{T, 2}   # macroscale velocity, y component\n",
    "    meq::Array{T, 3}  # equillibrium term for collision\n",
    "    tmp::Array{T, 2}  # place-holder array\n",
    "end\n",
    "\n",
    "function LatticeState(Nx,Ny)\n",
    "    ρ   = zeros(Nx,Ny)\n",
    "    f   = ones(Nx,Ny,NL)\n",
    "    m   = similar(f)\n",
    "    ux  = similar(ρ)\n",
    "    uy  = similar(ρ)\n",
    "    meq = similar(f)\n",
    "    tmp = similar(ρ)\n",
    "\n",
    "    return LatticeState{Float64}(ρ, f, m, ux, uy, meq, tmp)\n",
    "end"
   ]
  },
  {
   "cell_type": "code",
   "execution_count": 95,
   "id": "transsexual-johnson",
   "metadata": {},
   "outputs": [
    {
     "data": {
      "text/plain": [
       "init! (generic function with 1 method)"
      ]
     },
     "execution_count": 95,
     "metadata": {},
     "output_type": "execute_result"
    }
   ],
   "source": [
    "@inbounds function stream!(f::Array{<:Real}, tmp::Array{<:Real})\n",
    "    for i in 1:NL\n",
    "        A = @view f[:,:,i]\n",
    "        circshift!(tmp, A, (ex[i],0) )\n",
    "        circshift!(A, tmp, (0,ey[i]) )\n",
    "    end\n",
    "end\n",
    "\n",
    "\n",
    "@inbounds function calculate_meq!(meq::Array{<:Real},\n",
    "        ρ::Array{<:Real}, ux::Array{<:Real}, uy::Array{<:Real})\n",
    "    for i=1:Nx, j=1:Ny\n",
    "        jx = ρ[i,j] * ux[i,j]\n",
    "        jy = ρ[i,j] * uy[i,j]\n",
    "        meq[i,j,1] =    ρ[i,j]\n",
    "        meq[i,j,2] =-2.0ρ[i,j] + 3.0(jx^2 + jy^2)\n",
    "        meq[i,j,3] =+1.0ρ[i,j] - 3.0(jx^2 + jy^2)\n",
    "        meq[i,j,4] =  +jx\n",
    "        meq[i,j,5] =  -jx\n",
    "        meq[i,j,6] =  +jy\n",
    "        meq[i,j,7] =  -jy\n",
    "        meq[i,j,8] =   jx^2 - jy^2\n",
    "        meq[i,j,9] =   jx * jy\n",
    "    end\n",
    "end\n",
    "\n",
    "@inbounds function collision!(f::Array{<:Real}, m::Array{<:Real}, meq::Array{<:Real})\n",
    "    for i=1:Nx, j=1:Ny\n",
    "        m[i,j,:] .= M * f[i,j,:]\n",
    "        f[i,j,:] .=     f[i,j,:] .- invM * (m[i,j,:] .- meq[i,j,:])\n",
    "    end\n",
    "end\n",
    "\n",
    "@inbounds function calculate_u!(ux::Array{<:Real}, uy::Array{<:Real},\n",
    "        f::Array{<:Real}, ρ::Array{<:Real})\n",
    "    sum!(ρ, f)\n",
    "    @einsum ux[i,j] = f[i,j,k] * ex[k] / ρ[i,j]\n",
    "    @einsum uy[i,j] = f[i,j,k] * ey[k] / ρ[i,j]\n",
    "    \n",
    "    ux[1,:] .= .0; ux[Nx,:] .= .0; ux[:,1] .= .0; ux[:,Ny] .= u0;\n",
    "    uy[1,:] .= .0; uy[Nx,:] .= .0; uy[:,1] .= .0; uy[:,Ny] .= .0;\n",
    "end\n",
    "\n",
    "@inbounds function correct_f!(f::Array{<:Real}, ρ::Array{<:Real})\n",
    "    @einsum f[i,j,k] = f[i,j,k] * ρ0 / ρ[i,j]\n",
    "end\n",
    "\n",
    "@inbounds function apply_bc!(f::Array{<:Real})\n",
    "    f[1,:,2] =  f[1,:,6]\n",
    "    f[1,:,3] =  f[1,:,7]\n",
    "    f[1,:,9] =  f[1,:,5]\n",
    "    \n",
    "    f[Nx,:,6] = f[Nx,:,2]\n",
    "    f[Nx,:,7] = f[Nx,:,3]\n",
    "    f[Nx,:,5] = f[Nx,:,9]\n",
    "    \n",
    "    f[:,1,4] =  f[:,1,8]\n",
    "    f[:,1,3] =  f[:,1,7]\n",
    "    f[:,1,5] =  f[:,1,9]\n",
    "    \n",
    "    ρu =    f[:,Ny,1] + f[:,Ny,2] + f[:,Ny,6] +\n",
    "        2.0(f[:,Ny,4] + f[:,Ny,5] + f[:,Ny,3])\n",
    "    f[:,Ny,8] = f[:,Ny,4]\n",
    "    f[:,Ny,9] = f[:,Ny,5] + 0.5(f[:,Ny,6] - f[:,Ny,2]) + 0.5ρu*u0\n",
    "    f[:,Ny,7] = f[:,Ny,3] + 0.5(f[:,Ny,2] - f[:,Ny,6]) - 0.5ρu*u0\n",
    "    \n",
    "    #ρ  = F[:,Ny,1] + F[:,Ny,4] + F[:,Ny,8] + 2.0(F[:,Ny,2] + F[:,Ny,3] + F[:,Ny,9])\n",
    "    #ρu = u0 .* ρ ./ (1.0 .+ u0)\n",
    "    #F[:,Ny,5] = F[:,Ny,9] - 1/6*ρu + 1/2*(F[:,Ny,8] - F[:,Ny,4])\n",
    "    #F[:,Ny,6] = F[:,Ny,2] - 2/3*ρu\n",
    "    #F[:,Ny,7] = F[:,Ny,3] - 1/6*ρu + 1/2*(F[:,Ny,4] - F[:,Ny,8])\n",
    "end\n",
    "\n",
    "function step!(s::LatticeState, Nt::Int)\n",
    "    for it in 1:Nt\n",
    "        calculate_meq!(s.meq, s.ρ, s.ux, s.uy)\n",
    "        collision!(s.f, s.m, s.meq)\n",
    "        stream!(s.f, s.tmp)\n",
    "        apply_bc!(s.f)\n",
    "        calculate_u!(s.ux, s.uy, s.f, s.ρ)\n",
    "    end\n",
    "end\n",
    "\n",
    "@inbounds function init!(s::LatticeState)\n",
    "    fill!(s.f,  1.0)\n",
    "    fill!(s.ux, 0.0)\n",
    "    fill!(s.uy, 0.0)\n",
    "    sum!(s.ρ, s.f)\n",
    "    #correct_f!(s.f, s.ρ)\n",
    "end"
   ]
  },
  {
   "cell_type": "code",
   "execution_count": 96,
   "id": "0eb321a9",
   "metadata": {},
   "outputs": [
    {
     "data": {
      "text/plain": [
       "50×50 Matrix{Float64}:\n",
       " 9.0  9.0  9.0  9.0  9.0  9.0  9.0  9.0  …  9.0  9.0  9.0  9.0  9.0  9.0  9.0\n",
       " 9.0  9.0  9.0  9.0  9.0  9.0  9.0  9.0     9.0  9.0  9.0  9.0  9.0  9.0  9.0\n",
       " 9.0  9.0  9.0  9.0  9.0  9.0  9.0  9.0     9.0  9.0  9.0  9.0  9.0  9.0  9.0\n",
       " 9.0  9.0  9.0  9.0  9.0  9.0  9.0  9.0     9.0  9.0  9.0  9.0  9.0  9.0  9.0\n",
       " 9.0  9.0  9.0  9.0  9.0  9.0  9.0  9.0     9.0  9.0  9.0  9.0  9.0  9.0  9.0\n",
       " 9.0  9.0  9.0  9.0  9.0  9.0  9.0  9.0  …  9.0  9.0  9.0  9.0  9.0  9.0  9.0\n",
       " 9.0  9.0  9.0  9.0  9.0  9.0  9.0  9.0     9.0  9.0  9.0  9.0  9.0  9.0  9.0\n",
       " 9.0  9.0  9.0  9.0  9.0  9.0  9.0  9.0     9.0  9.0  9.0  9.0  9.0  9.0  9.0\n",
       " 9.0  9.0  9.0  9.0  9.0  9.0  9.0  9.0     9.0  9.0  9.0  9.0  9.0  9.0  9.0\n",
       " 9.0  9.0  9.0  9.0  9.0  9.0  9.0  9.0     9.0  9.0  9.0  9.0  9.0  9.0  9.0\n",
       " 9.0  9.0  9.0  9.0  9.0  9.0  9.0  9.0  …  9.0  9.0  9.0  9.0  9.0  9.0  9.0\n",
       " 9.0  9.0  9.0  9.0  9.0  9.0  9.0  9.0     9.0  9.0  9.0  9.0  9.0  9.0  9.0\n",
       " 9.0  9.0  9.0  9.0  9.0  9.0  9.0  9.0     9.0  9.0  9.0  9.0  9.0  9.0  9.0\n",
       " ⋮                        ⋮              ⋱            ⋮                   \n",
       " 9.0  9.0  9.0  9.0  9.0  9.0  9.0  9.0     9.0  9.0  9.0  9.0  9.0  9.0  9.0\n",
       " 9.0  9.0  9.0  9.0  9.0  9.0  9.0  9.0     9.0  9.0  9.0  9.0  9.0  9.0  9.0\n",
       " 9.0  9.0  9.0  9.0  9.0  9.0  9.0  9.0  …  9.0  9.0  9.0  9.0  9.0  9.0  9.0\n",
       " 9.0  9.0  9.0  9.0  9.0  9.0  9.0  9.0     9.0  9.0  9.0  9.0  9.0  9.0  9.0\n",
       " 9.0  9.0  9.0  9.0  9.0  9.0  9.0  9.0     9.0  9.0  9.0  9.0  9.0  9.0  9.0\n",
       " 9.0  9.0  9.0  9.0  9.0  9.0  9.0  9.0     9.0  9.0  9.0  9.0  9.0  9.0  9.0\n",
       " 9.0  9.0  9.0  9.0  9.0  9.0  9.0  9.0     9.0  9.0  9.0  9.0  9.0  9.0  9.0\n",
       " 9.0  9.0  9.0  9.0  9.0  9.0  9.0  9.0  …  9.0  9.0  9.0  9.0  9.0  9.0  9.0\n",
       " 9.0  9.0  9.0  9.0  9.0  9.0  9.0  9.0     9.0  9.0  9.0  9.0  9.0  9.0  9.0\n",
       " 9.0  9.0  9.0  9.0  9.0  9.0  9.0  9.0     9.0  9.0  9.0  9.0  9.0  9.0  9.0\n",
       " 9.0  9.0  9.0  9.0  9.0  9.0  9.0  9.0     9.0  9.0  9.0  9.0  9.0  9.0  9.0\n",
       " 9.0  9.0  9.0  9.0  9.0  9.0  9.0  9.0     9.0  9.0  9.0  9.0  9.0  9.0  9.0"
      ]
     },
     "execution_count": 96,
     "metadata": {},
     "output_type": "execute_result"
    }
   ],
   "source": [
    "s = LatticeState(Nx, Ny)\n",
    "init!(s)"
   ]
  },
  {
   "cell_type": "code",
   "execution_count": 97,
   "id": "2fef2d56",
   "metadata": {},
   "outputs": [
    {
     "data": {
      "text/plain": [
       "50×50 Matrix{Float64}:\n",
       " -18.0  -18.0  -18.0  -18.0  -18.0  …  -18.0  -18.0  -18.0  -18.0  -18.0\n",
       " -18.0  -18.0  -18.0  -18.0  -18.0     -18.0  -18.0  -18.0  -18.0  -18.0\n",
       " -18.0  -18.0  -18.0  -18.0  -18.0     -18.0  -18.0  -18.0  -18.0  -18.0\n",
       " -18.0  -18.0  -18.0  -18.0  -18.0     -18.0  -18.0  -18.0  -18.0  -18.0\n",
       " -18.0  -18.0  -18.0  -18.0  -18.0     -18.0  -18.0  -18.0  -18.0  -18.0\n",
       " -18.0  -18.0  -18.0  -18.0  -18.0  …  -18.0  -18.0  -18.0  -18.0  -18.0\n",
       " -18.0  -18.0  -18.0  -18.0  -18.0     -18.0  -18.0  -18.0  -18.0  -18.0\n",
       " -18.0  -18.0  -18.0  -18.0  -18.0     -18.0  -18.0  -18.0  -18.0  -18.0\n",
       " -18.0  -18.0  -18.0  -18.0  -18.0     -18.0  -18.0  -18.0  -18.0  -18.0\n",
       " -18.0  -18.0  -18.0  -18.0  -18.0     -18.0  -18.0  -18.0  -18.0  -18.0\n",
       " -18.0  -18.0  -18.0  -18.0  -18.0  …  -18.0  -18.0  -18.0  -18.0  -18.0\n",
       " -18.0  -18.0  -18.0  -18.0  -18.0     -18.0  -18.0  -18.0  -18.0  -18.0\n",
       " -18.0  -18.0  -18.0  -18.0  -18.0     -18.0  -18.0  -18.0  -18.0  -18.0\n",
       "   ⋮                                ⋱    ⋮                         \n",
       " -18.0  -18.0  -18.0  -18.0  -18.0     -18.0  -18.0  -18.0  -18.0  -18.0\n",
       " -18.0  -18.0  -18.0  -18.0  -18.0     -18.0  -18.0  -18.0  -18.0  -18.0\n",
       " -18.0  -18.0  -18.0  -18.0  -18.0  …  -18.0  -18.0  -18.0  -18.0  -18.0\n",
       " -18.0  -18.0  -18.0  -18.0  -18.0     -18.0  -18.0  -18.0  -18.0  -18.0\n",
       " -18.0  -18.0  -18.0  -18.0  -18.0     -18.0  -18.0  -18.0  -18.0  -18.0\n",
       " -18.0  -18.0  -18.0  -18.0  -18.0     -18.0  -18.0  -18.0  -18.0  -18.0\n",
       " -18.0  -18.0  -18.0  -18.0  -18.0     -18.0  -18.0  -18.0  -18.0  -18.0\n",
       " -18.0  -18.0  -18.0  -18.0  -18.0  …  -18.0  -18.0  -18.0  -18.0  -18.0\n",
       " -18.0  -18.0  -18.0  -18.0  -18.0     -18.0  -18.0  -18.0  -18.0  -18.0\n",
       " -18.0  -18.0  -18.0  -18.0  -18.0     -18.0  -18.0  -18.0  -18.0  -18.0\n",
       " -18.0  -18.0  -18.0  -18.0  -18.0     -18.0  -18.0  -18.0  -18.0  -18.0\n",
       " -18.0  -18.0  -18.0  -18.0  -18.0     -18.0  -18.0  -18.0  -18.0  -18.0"
      ]
     },
     "execution_count": 97,
     "metadata": {},
     "output_type": "execute_result"
    }
   ],
   "source": [
    "calculate_meq!(s.meq, s.ρ, s.ux, s.uy)\n",
    "s.meq[:,:,2]"
   ]
  },
  {
   "cell_type": "code",
   "execution_count": 98,
   "id": "ba6d04b3",
   "metadata": {},
   "outputs": [
    {
     "data": {
      "text/plain": [
       "50×50 Matrix{Float64}:\n",
       " 9.0  9.0  9.0  9.0  9.0  9.0  9.0  9.0  …  9.0  9.0  9.0  9.0  9.0  9.0  9.0\n",
       " 9.0  9.0  9.0  9.0  9.0  9.0  9.0  9.0     9.0  9.0  9.0  9.0  9.0  9.0  9.0\n",
       " 9.0  9.0  9.0  9.0  9.0  9.0  9.0  9.0     9.0  9.0  9.0  9.0  9.0  9.0  9.0\n",
       " 9.0  9.0  9.0  9.0  9.0  9.0  9.0  9.0     9.0  9.0  9.0  9.0  9.0  9.0  9.0\n",
       " 9.0  9.0  9.0  9.0  9.0  9.0  9.0  9.0     9.0  9.0  9.0  9.0  9.0  9.0  9.0\n",
       " 9.0  9.0  9.0  9.0  9.0  9.0  9.0  9.0  …  9.0  9.0  9.0  9.0  9.0  9.0  9.0\n",
       " 9.0  9.0  9.0  9.0  9.0  9.0  9.0  9.0     9.0  9.0  9.0  9.0  9.0  9.0  9.0\n",
       " 9.0  9.0  9.0  9.0  9.0  9.0  9.0  9.0     9.0  9.0  9.0  9.0  9.0  9.0  9.0\n",
       " 9.0  9.0  9.0  9.0  9.0  9.0  9.0  9.0     9.0  9.0  9.0  9.0  9.0  9.0  9.0\n",
       " 9.0  9.0  9.0  9.0  9.0  9.0  9.0  9.0     9.0  9.0  9.0  9.0  9.0  9.0  9.0\n",
       " 9.0  9.0  9.0  9.0  9.0  9.0  9.0  9.0  …  9.0  9.0  9.0  9.0  9.0  9.0  9.0\n",
       " 9.0  9.0  9.0  9.0  9.0  9.0  9.0  9.0     9.0  9.0  9.0  9.0  9.0  9.0  9.0\n",
       " 9.0  9.0  9.0  9.0  9.0  9.0  9.0  9.0     9.0  9.0  9.0  9.0  9.0  9.0  9.0\n",
       " ⋮                        ⋮              ⋱            ⋮                   \n",
       " 9.0  9.0  9.0  9.0  9.0  9.0  9.0  9.0     9.0  9.0  9.0  9.0  9.0  9.0  9.0\n",
       " 9.0  9.0  9.0  9.0  9.0  9.0  9.0  9.0     9.0  9.0  9.0  9.0  9.0  9.0  9.0\n",
       " 9.0  9.0  9.0  9.0  9.0  9.0  9.0  9.0  …  9.0  9.0  9.0  9.0  9.0  9.0  9.0\n",
       " 9.0  9.0  9.0  9.0  9.0  9.0  9.0  9.0     9.0  9.0  9.0  9.0  9.0  9.0  9.0\n",
       " 9.0  9.0  9.0  9.0  9.0  9.0  9.0  9.0     9.0  9.0  9.0  9.0  9.0  9.0  9.0\n",
       " 9.0  9.0  9.0  9.0  9.0  9.0  9.0  9.0     9.0  9.0  9.0  9.0  9.0  9.0  9.0\n",
       " 9.0  9.0  9.0  9.0  9.0  9.0  9.0  9.0     9.0  9.0  9.0  9.0  9.0  9.0  9.0\n",
       " 9.0  9.0  9.0  9.0  9.0  9.0  9.0  9.0  …  9.0  9.0  9.0  9.0  9.0  9.0  9.0\n",
       " 9.0  9.0  9.0  9.0  9.0  9.0  9.0  9.0     9.0  9.0  9.0  9.0  9.0  9.0  9.0\n",
       " 9.0  9.0  9.0  9.0  9.0  9.0  9.0  9.0     9.0  9.0  9.0  9.0  9.0  9.0  9.0\n",
       " 9.0  9.0  9.0  9.0  9.0  9.0  9.0  9.0     9.0  9.0  9.0  9.0  9.0  9.0  9.0\n",
       " 9.0  9.0  9.0  9.0  9.0  9.0  9.0  9.0     9.0  9.0  9.0  9.0  9.0  9.0  9.0"
      ]
     },
     "execution_count": 98,
     "metadata": {},
     "output_type": "execute_result"
    }
   ],
   "source": [
    "collision!(s.f, s.m, s.meq)\n",
    "s.m[:,:,1]"
   ]
  },
  {
   "cell_type": "code",
   "execution_count": 99,
   "id": "079e07f5",
   "metadata": {},
   "outputs": [
    {
     "data": {
      "text/plain": [
       "50×50 Matrix{Float64}:\n",
       " 5.2  5.2  5.2  5.2  5.2  5.2  5.2  5.2  …  5.2  5.2  5.2  5.2  5.2  5.2  5.2\n",
       " 5.2  5.2  5.2  5.2  5.2  5.2  5.2  5.2     5.2  5.2  5.2  5.2  5.2  5.2  5.2\n",
       " 5.2  5.2  5.2  5.2  5.2  5.2  5.2  5.2     5.2  5.2  5.2  5.2  5.2  5.2  5.2\n",
       " 5.2  5.2  5.2  5.2  5.2  5.2  5.2  5.2     5.2  5.2  5.2  5.2  5.2  5.2  5.2\n",
       " 5.2  5.2  5.2  5.2  5.2  5.2  5.2  5.2     5.2  5.2  5.2  5.2  5.2  5.2  5.2\n",
       " 5.2  5.2  5.2  5.2  5.2  5.2  5.2  5.2  …  5.2  5.2  5.2  5.2  5.2  5.2  5.2\n",
       " 5.2  5.2  5.2  5.2  5.2  5.2  5.2  5.2     5.2  5.2  5.2  5.2  5.2  5.2  5.2\n",
       " 5.2  5.2  5.2  5.2  5.2  5.2  5.2  5.2     5.2  5.2  5.2  5.2  5.2  5.2  5.2\n",
       " 5.2  5.2  5.2  5.2  5.2  5.2  5.2  5.2     5.2  5.2  5.2  5.2  5.2  5.2  5.2\n",
       " 5.2  5.2  5.2  5.2  5.2  5.2  5.2  5.2     5.2  5.2  5.2  5.2  5.2  5.2  5.2\n",
       " 5.2  5.2  5.2  5.2  5.2  5.2  5.2  5.2  …  5.2  5.2  5.2  5.2  5.2  5.2  5.2\n",
       " 5.2  5.2  5.2  5.2  5.2  5.2  5.2  5.2     5.2  5.2  5.2  5.2  5.2  5.2  5.2\n",
       " 5.2  5.2  5.2  5.2  5.2  5.2  5.2  5.2     5.2  5.2  5.2  5.2  5.2  5.2  5.2\n",
       " ⋮                        ⋮              ⋱            ⋮                   \n",
       " 5.2  5.2  5.2  5.2  5.2  5.2  5.2  5.2     5.2  5.2  5.2  5.2  5.2  5.2  5.2\n",
       " 5.2  5.2  5.2  5.2  5.2  5.2  5.2  5.2     5.2  5.2  5.2  5.2  5.2  5.2  5.2\n",
       " 5.2  5.2  5.2  5.2  5.2  5.2  5.2  5.2  …  5.2  5.2  5.2  5.2  5.2  5.2  5.2\n",
       " 5.2  5.2  5.2  5.2  5.2  5.2  5.2  5.2     5.2  5.2  5.2  5.2  5.2  5.2  5.2\n",
       " 5.2  5.2  5.2  5.2  5.2  5.2  5.2  5.2     5.2  5.2  5.2  5.2  5.2  5.2  5.2\n",
       " 5.2  5.2  5.2  5.2  5.2  5.2  5.2  5.2     5.2  5.2  5.2  5.2  5.2  5.2  5.2\n",
       " 5.2  5.2  5.2  5.2  5.2  5.2  5.2  5.2     5.2  5.2  5.2  5.2  5.2  5.2  5.2\n",
       " 5.2  5.2  5.2  5.2  5.2  5.2  5.2  5.2  …  5.2  5.2  5.2  5.2  5.2  5.2  5.2\n",
       " 5.2  5.2  5.2  5.2  5.2  5.2  5.2  5.2     5.2  5.2  5.2  5.2  5.2  5.2  5.2\n",
       " 5.2  5.2  5.2  5.2  5.2  5.2  5.2  5.2     5.2  5.2  5.2  5.2  5.2  5.2  5.2\n",
       " 5.2  5.2  5.2  5.2  5.2  5.2  5.2  5.2     5.2  5.2  5.2  5.2  5.2  5.2  5.2\n",
       " 5.2  5.2  5.2  5.2  5.2  5.2  5.2  5.2     5.2  5.2  5.2  5.2  5.2  5.2  5.2"
      ]
     },
     "execution_count": 99,
     "metadata": {},
     "output_type": "execute_result"
    }
   ],
   "source": [
    "stream!(s.f, s.tmp)\n",
    "s.f[:,:,1]"
   ]
  },
  {
   "cell_type": "code",
   "execution_count": 100,
   "id": "5f1006dc",
   "metadata": {},
   "outputs": [
    {
     "data": {
      "text/plain": [
       "50×50 Matrix{Float64}:\n",
       " 1.0  1.0  1.0  1.0  1.0  1.0  1.0  1.0  …  1.0  1.0  1.0  1.0  1.0  1.0  1.0\n",
       " 1.0  1.0  1.0  1.0  1.0  1.0  1.0  1.0     1.0  1.0  1.0  1.0  1.0  1.0  1.0\n",
       " 1.0  1.0  1.0  1.0  1.0  1.0  1.0  1.0     1.0  1.0  1.0  1.0  1.0  1.0  1.0\n",
       " 1.0  1.0  1.0  1.0  1.0  1.0  1.0  1.0     1.0  1.0  1.0  1.0  1.0  1.0  1.0\n",
       " 1.0  1.0  1.0  1.0  1.0  1.0  1.0  1.0     1.0  1.0  1.0  1.0  1.0  1.0  1.0\n",
       " 1.0  1.0  1.0  1.0  1.0  1.0  1.0  1.0  …  1.0  1.0  1.0  1.0  1.0  1.0  1.0\n",
       " 1.0  1.0  1.0  1.0  1.0  1.0  1.0  1.0     1.0  1.0  1.0  1.0  1.0  1.0  1.0\n",
       " 1.0  1.0  1.0  1.0  1.0  1.0  1.0  1.0     1.0  1.0  1.0  1.0  1.0  1.0  1.0\n",
       " 1.0  1.0  1.0  1.0  1.0  1.0  1.0  1.0     1.0  1.0  1.0  1.0  1.0  1.0  1.0\n",
       " 1.0  1.0  1.0  1.0  1.0  1.0  1.0  1.0     1.0  1.0  1.0  1.0  1.0  1.0  1.0\n",
       " 1.0  1.0  1.0  1.0  1.0  1.0  1.0  1.0  …  1.0  1.0  1.0  1.0  1.0  1.0  1.0\n",
       " 1.0  1.0  1.0  1.0  1.0  1.0  1.0  1.0     1.0  1.0  1.0  1.0  1.0  1.0  1.0\n",
       " 1.0  1.0  1.0  1.0  1.0  1.0  1.0  1.0     1.0  1.0  1.0  1.0  1.0  1.0  1.0\n",
       " ⋮                        ⋮              ⋱            ⋮                   \n",
       " 1.0  1.0  1.0  1.0  1.0  1.0  1.0  1.0     1.0  1.0  1.0  1.0  1.0  1.0  1.0\n",
       " 1.0  1.0  1.0  1.0  1.0  1.0  1.0  1.0     1.0  1.0  1.0  1.0  1.0  1.0  1.0\n",
       " 1.0  1.0  1.0  1.0  1.0  1.0  1.0  1.0  …  1.0  1.0  1.0  1.0  1.0  1.0  1.0\n",
       " 1.0  1.0  1.0  1.0  1.0  1.0  1.0  1.0     1.0  1.0  1.0  1.0  1.0  1.0  1.0\n",
       " 1.0  1.0  1.0  1.0  1.0  1.0  1.0  1.0     1.0  1.0  1.0  1.0  1.0  1.0  1.0\n",
       " 1.0  1.0  1.0  1.0  1.0  1.0  1.0  1.0     1.0  1.0  1.0  1.0  1.0  1.0  1.0\n",
       " 1.0  1.0  1.0  1.0  1.0  1.0  1.0  1.0     1.0  1.0  1.0  1.0  1.0  1.0  1.0\n",
       " 1.0  1.0  1.0  1.0  1.0  1.0  1.0  1.0  …  1.0  1.0  1.0  1.0  1.0  1.0  1.0\n",
       " 1.0  1.0  1.0  1.0  1.0  1.0  1.0  1.0     1.0  1.0  1.0  1.0  1.0  1.0  1.0\n",
       " 1.0  1.0  1.0  1.0  1.0  1.0  1.0  1.0     1.0  1.0  1.0  1.0  1.0  1.0  1.0\n",
       " 1.0  1.0  1.0  1.0  1.0  1.0  1.0  1.0     1.0  1.0  1.0  1.0  1.0  1.0  1.0\n",
       " 1.0  1.0  1.0  1.0  1.0  1.0  1.0  1.0     1.0  1.0  1.0  1.0  1.0  1.0  1.0"
      ]
     },
     "execution_count": 100,
     "metadata": {},
     "output_type": "execute_result"
    }
   ],
   "source": [
    "apply_bc!(s.f)\n",
    "s.f[:,:,2]"
   ]
  },
  {
   "cell_type": "code",
   "execution_count": 101,
   "id": "e57676a2",
   "metadata": {},
   "outputs": [
    {
     "data": {
      "text/plain": [
       "50×50 Matrix{Float64}:\n",
       " 0.0  0.0          0.0          0.0          …  0.0          0.0          0.1\n",
       " 0.0  1.36176e-16  1.36176e-16  1.36176e-16     1.36176e-16  1.36176e-16  0.1\n",
       " 0.0  1.36176e-16  1.36176e-16  1.36176e-16     1.36176e-16  1.36176e-16  0.1\n",
       " 0.0  1.36176e-16  1.36176e-16  1.36176e-16     1.36176e-16  1.36176e-16  0.1\n",
       " 0.0  1.36176e-16  1.36176e-16  1.36176e-16     1.36176e-16  1.36176e-16  0.1\n",
       " 0.0  1.36176e-16  1.36176e-16  1.36176e-16  …  1.36176e-16  1.36176e-16  0.1\n",
       " 0.0  1.36176e-16  1.36176e-16  1.36176e-16     1.36176e-16  1.36176e-16  0.1\n",
       " 0.0  1.36176e-16  1.36176e-16  1.36176e-16     1.36176e-16  1.36176e-16  0.1\n",
       " 0.0  1.36176e-16  1.36176e-16  1.36176e-16     1.36176e-16  1.36176e-16  0.1\n",
       " 0.0  1.36176e-16  1.36176e-16  1.36176e-16     1.36176e-16  1.36176e-16  0.1\n",
       " 0.0  1.36176e-16  1.36176e-16  1.36176e-16  …  1.36176e-16  1.36176e-16  0.1\n",
       " 0.0  1.36176e-16  1.36176e-16  1.36176e-16     1.36176e-16  1.36176e-16  0.1\n",
       " 0.0  1.36176e-16  1.36176e-16  1.36176e-16     1.36176e-16  1.36176e-16  0.1\n",
       " ⋮                                           ⋱                            \n",
       " 0.0  1.36176e-16  1.36176e-16  1.36176e-16     1.36176e-16  1.36176e-16  0.1\n",
       " 0.0  1.36176e-16  1.36176e-16  1.36176e-16     1.36176e-16  1.36176e-16  0.1\n",
       " 0.0  1.36176e-16  1.36176e-16  1.36176e-16  …  1.36176e-16  1.36176e-16  0.1\n",
       " 0.0  1.36176e-16  1.36176e-16  1.36176e-16     1.36176e-16  1.36176e-16  0.1\n",
       " 0.0  1.36176e-16  1.36176e-16  1.36176e-16     1.36176e-16  1.36176e-16  0.1\n",
       " 0.0  1.36176e-16  1.36176e-16  1.36176e-16     1.36176e-16  1.36176e-16  0.1\n",
       " 0.0  1.36176e-16  1.36176e-16  1.36176e-16     1.36176e-16  1.36176e-16  0.1\n",
       " 0.0  1.36176e-16  1.36176e-16  1.36176e-16  …  1.36176e-16  1.36176e-16  0.1\n",
       " 0.0  1.36176e-16  1.36176e-16  1.36176e-16     1.36176e-16  1.36176e-16  0.1\n",
       " 0.0  1.36176e-16  1.36176e-16  1.36176e-16     1.36176e-16  1.36176e-16  0.1\n",
       " 0.0  1.36176e-16  1.36176e-16  1.36176e-16     1.36176e-16  1.36176e-16  0.1\n",
       " 0.0  0.0          0.0          0.0             0.0          0.0          0.1"
      ]
     },
     "execution_count": 101,
     "metadata": {},
     "output_type": "execute_result"
    }
   ],
   "source": [
    "calculate_u!(s.ux, s.uy, s.f, s.ρ)\n",
    "s.ux"
   ]
  },
  {
   "cell_type": "code",
   "execution_count": 102,
   "id": "a999b2ac",
   "metadata": {},
   "outputs": [
    {
     "data": {
      "image/png": "[encoded data removed]",
      "text/plain": [
       "Figure(PyObject <Figure size 1000x500 with 1 Axes>)"
      ]
     },
     "metadata": {},
     "output_type": "display_data"
    },
    {
     "name": "stdout",
     "output_type": "stream",
     "text": [
      " 11.485494 seconds (125.20 M allocations: 14.613 GiB, 6.04% gc time, 0.09% compilation time)\n"
     ]
    },
    {
     "data": {
      "text/plain": [
       "PyObject Text(23.999999999999993, 0.5, 'yx-coordinate [lu]')"
      ]
     },
     "execution_count": 102,
     "metadata": {},
     "output_type": "execute_result"
    }
   ],
   "source": [
    "# problem  = LatticeState(Nx, Ny)\n",
    "init!(problem)\n",
    "@time step!(problem,  5000) # Run simulation the first time to get rid of compilation overhead\n",
    "#@time step!(problem, 10) # Run simulation (for real!)\n",
    "ψ = zeros(Nx, Ny)\n",
    "for i=2:Nx-1, j=2:Ny-1\n",
    "    ψ[i,j] = ψ[i-1,j] - problem.uy[i,j]\n",
    "end\n",
    "figure(figsize=(10,5))\n",
    "#imshow(problem.ρ'); title(\"Density ρ\")\n",
    "contourf(ψ'); title(\"ψ\")\n",
    "#imshow(problem.ux'); title(\"Horizontal velocity\")\n",
    "xlabel(\"x-coordinate [lattice units]\")\n",
    "ylabel(\"yx-coordinate [lu]\")"
   ]
  },
  {
   "cell_type": "code",
   "execution_count": 5,
   "id": "sublime-employee",
   "metadata": {},
   "outputs": [
    {
     "data": {
      "image/png": "[encoded data removed]",
      "text/plain": [
       "Figure(PyObject <Figure size 640x480 with 2 Axes>)"
      ]
     },
     "metadata": {},
     "output_type": "display_data"
    },
    {
     "name": "stderr",
     "output_type": "stream",
     "text": [
      "/Users/bach/.julia/conda/3/lib/python3.9/site-packages/matplotlib/image.py:443: UserWarning: Warning: converting a masked element to nan.\n",
      "  dv = np.float64(self.norm.vmax) - np.float64(self.norm.vmin)\n",
      "/Users/bach/.julia/conda/3/lib/python3.9/site-packages/matplotlib/image.py:444: UserWarning: Warning: converting a masked element to nan.\n",
      "  vmid = np.float64(self.norm.vmin) + dv / 2\n"
     ]
    },
    {
     "data": {
      "text/plain": [
       "PyObject Text(23.999999999999993, 0.5, 'yx-coordinate [lu]')"
      ]
     },
     "execution_count": 5,
     "metadata": {},
     "output_type": "execute_result"
    }
   ],
   "source": [
    "ux = copy(problem.ux)\n",
    "uy = copy(problem.uy)\n",
    "velocity  = ux .^2 .+ uy .^ 2\n",
    "vorticity = (circshift(ux, (0,+1)) .- circshift(ux, (0,-1))) .-\n",
    "            (circshift(uy, (+1,0)) .- circshift(uy, (-1,0)))\n",
    "vorticity[1,:] .= NaN\n",
    "vorticity[:,1] .= NaN\n",
    "vorticity[Nx,:].= NaN\n",
    "bwr = PyPlot.cm.bwr.copy(); bwr.set_bad(\"black\")\n",
    "\n",
    "subplot(2,1,1); imshow(vorticity', cmap=bwr); clim([-.03, +.03]);\n",
    "title(\"Vorticity / Velocity\")\n",
    "ylabel(\"yx-coordinate [lu]\")\n",
    "subplot(2,1,2); imshow(log10.(abs.(velocity')))\n",
    "xlabel(\"x-coordinate [lattice units]\")\n",
    "ylabel(\"yx-coordinate [lu]\")"
   ]
  },
  {
   "cell_type": "code",
   "execution_count": 6,
   "id": "bec85a53",
   "metadata": {},
   "outputs": [
    {
     "data": {
      "image/png": "[encoded data removed]",
      "text/plain": [
       "Figure(PyObject <Figure size 640x480 with 1 Axes>)"
      ]
     },
     "metadata": {},
     "output_type": "display_data"
    },
    {
     "name": "stderr",
     "output_type": "stream",
     "text": [
      "/Users/bach/.julia/conda/3/lib/python3.9/site-packages/matplotlib/quiver.py:679: RuntimeWarning: divide by zero encountered in double_scalars\n",
      "  length = a * (widthu_per_lenu / (self.scale * self.width))\n",
      "/Users/bach/.julia/conda/3/lib/python3.9/site-packages/matplotlib/quiver.py:679: RuntimeWarning: invalid value encountered in multiply\n",
      "  length = a * (widthu_per_lenu / (self.scale * self.width))\n"
     ]
    },
    {
     "data": {
      "text/plain": [
       "PyObject <matplotlib.quiver.Quiver object at 0x7fb072230ac0>"
      ]
     },
     "execution_count": 6,
     "metadata": {},
     "output_type": "execute_result"
    }
   ],
   "source": [
    "quiver([i for i=1:Nx, j=1:Ny], [j for i=1:Nx, j=1:Ny], problem.ux, problem.uy)"
   ]
  },
  {
   "cell_type": "code",
   "execution_count": 94,
   "id": "5f0be2c3",
   "metadata": {},
   "outputs": [
    {
     "data": {
      "text/plain": [
       "50×50 Matrix{Float64}:\n",
       " 0.0    0.0    0.0    0.0    0.0    0.0  …    0.0    0.0    0.0    0.0  0.0\n",
       " 0.0  NaN    NaN    NaN    NaN    NaN       NaN    NaN    NaN    NaN    0.0\n",
       " 0.0  NaN    NaN    NaN    NaN    NaN       NaN    NaN    NaN    NaN    0.0\n",
       " 0.0  NaN    NaN    NaN    NaN    NaN       NaN    NaN    NaN    NaN    0.0\n",
       " 0.0  NaN    NaN    NaN    NaN    NaN       NaN    NaN    NaN    NaN    0.0\n",
       " 0.0  NaN    NaN    NaN    NaN    NaN    …  NaN    NaN    NaN    NaN    0.0\n",
       " 0.0  NaN    NaN    NaN    NaN    NaN       NaN    NaN    NaN    NaN    0.0\n",
       " 0.0  NaN    NaN    NaN    NaN    NaN       NaN    NaN    NaN    NaN    0.0\n",
       " 0.0  NaN    NaN    NaN    NaN    NaN       NaN    NaN    NaN    NaN    0.0\n",
       " 0.0  NaN    NaN    NaN    NaN    NaN       NaN    NaN    NaN    NaN    0.0\n",
       " 0.0  NaN    NaN    NaN    NaN    NaN    …  NaN    NaN    NaN    NaN    0.0\n",
       " 0.0  NaN    NaN    NaN    NaN    NaN       NaN    NaN    NaN    NaN    0.0\n",
       " 0.0  NaN    NaN    NaN    NaN    NaN       NaN    NaN    NaN    NaN    0.0\n",
       " ⋮                                  ⋮    ⋱    ⋮                         \n",
       " 0.0  NaN    NaN    NaN    NaN    NaN       NaN    NaN    NaN    NaN    0.0\n",
       " 0.0  NaN    NaN    NaN    NaN    NaN       NaN    NaN    NaN    NaN    0.0\n",
       " 0.0  NaN    NaN    NaN    NaN    NaN    …  NaN    NaN    NaN    NaN    0.0\n",
       " 0.0  NaN    NaN    NaN    NaN    NaN       NaN    NaN    NaN    NaN    0.0\n",
       " 0.0  NaN    NaN    NaN    NaN    NaN       NaN    NaN    NaN    NaN    0.0\n",
       " 0.0  NaN    NaN    NaN    NaN    NaN       NaN    NaN    NaN    NaN    0.0\n",
       " 0.0  NaN    NaN    NaN    NaN    NaN       NaN    NaN    NaN    NaN    0.0\n",
       " 0.0  NaN    NaN    NaN    NaN    NaN    …  NaN    NaN    NaN    NaN    0.0\n",
       " 0.0  NaN    NaN    NaN    NaN    NaN       NaN    NaN    NaN    NaN    0.0\n",
       " 0.0  NaN    NaN    NaN    NaN    NaN       NaN    NaN    NaN    NaN    0.0\n",
       " 0.0  NaN    NaN    NaN    NaN    NaN       NaN    NaN    NaN    NaN    0.0\n",
       " 0.0    0.0    0.0    0.0    0.0    0.0       0.0    0.0    0.0    0.0  0.0"
      ]
     },
     "execution_count": 94,
     "metadata": {},
     "output_type": "execute_result"
    }
   ],
   "source": [
    "ψ"
   ]
  },
  {
   "cell_type": "code",
   "execution_count": null,
   "id": "5eb28c66",
   "metadata": {},
   "outputs": [],
   "source": []
  },
  {
   "cell_type": "code",
   "execution_count": null,
   "id": "79d1db03",
   "metadata": {},
   "outputs": [],
   "source": []
  }
 ],
 "metadata": {
  "kernelspec": {
   "display_name": "Julia 1.6.3",
   "language": "julia",
   "name": "julia-1.6"
  },
  "language_info": {
   "file_extension": ".jl",
   "mimetype": "application/julia",
   "name": "julia",
   "version": "1.6.3"
  }
 },
 "nbformat": 4,
 "nbformat_minor": 5
}
